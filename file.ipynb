{
 "cells": [
  {
   "cell_type": "code",
   "execution_count": 1,
   "metadata": {},
   "outputs": [
    {
     "name": "stdout",
     "output_type": "stream",
     "text": [
      "Cold mailing, also known as cold emailing, is a marketing strategy where you send unsolicited emails to potential customers or clients who have had no prior interaction or relationship with your business. The goal of cold mailing is to introduce your product or service, generate interest, and potentially start a conversation that could lead to a sale or business opportunity.\n",
      "\n",
      "Cold mailing typically involves sending targeted, personalized emails to a list of potential customers, often compiled from public sources, industry directories, or purchased from third-party vendors. The emails aim to grab the recipient's attention, establish credibility, and entice them to respond or take a desired action, such as visiting a website, scheduling a call, or requesting more information.\n",
      "\n",
      "Some common characteristics of cold mailing include:\n",
      "\n",
      "1. **No prior relationship**: The recipient has no prior knowledge of or interaction with your business.\n",
      "2. **Unsolicited**: The email is sent without being requested or invited by the recipient.\n",
      "3. **Mass emailing**: Cold mailing often involves sending emails to a large number of recipients at once.\n",
      "4. **Personalization**: Emails may be personalized using the recipient's name, title, company, or other publicly available information to make the message more relevant and engaging.\n",
      "5. **Clear call-to-action**: Cold emails typically include a clear call-to-action, such as scheduling a call, requesting a meeting, or visiting a website.\n",
      "\n",
      "Cold mailing can be effective for various purposes, such as:\n",
      "\n",
      "1. **Lead generation**: Identifying potential customers and starting a conversation.\n",
      "2. **Brand awareness**: Introducing your business and products to a new audience.\n",
      "3. **Sales outreach**: Directly contacting potential customers with a sales pitch.\n",
      "4. **Partnership opportunities**: Reaching out to potential partners or collaborators.\n",
      "\n",
      "However, cold mailing also comes with some challenges, such as:\n",
      "\n",
      "1. **Low response rates**: Recipients may ignore or delete unsolicited emails.\n",
      "2. **Spam filters**: Emails may be blocked by spam filters or marked as spam by recipients.\n",
      "3. **Reputation risks**: Sending unsolicited emails can harm your business's reputation if not done thoughtfully and in compliance with anti-spam laws.\n",
      "\n",
      "To increase the effectiveness of cold mailing, it's essential to:\n",
      "\n",
      "1. **Research and target**: Carefully research and target the right audience to ensure relevance and interest.\n",
      "2. **Personalize and customize**: Personalize emails to address the recipient's specific needs and interests.\n",
      "3. **Keep it concise and clear**: Keep the email concise, easy to read, and free of jargon.\n",
      "4. **Follow anti-spam laws**: Comply with anti-spam laws, such as the General Data Protection Regulation (GDPR) and the CAN-SPAM Act.\n",
      "5. **Track and analyze**: Monitor and analyze the performance of your cold mailing campaign to refine and improve your strategy.\n"
     ]
    }
   ],
   "source": [
    "from langchain_groq import ChatGroq \n",
    "llm = ChatGroq(temperature=1, model=\"llama-3.3-70b-versatile\")\n",
    "response = llm.invoke(input=\"What is cold mailing?\")\n",
    "\n",
    "print(response.content)"
   ]
  },
  {
   "cell_type": "code",
   "execution_count": 14,
   "metadata": {},
   "outputs": [
    {
     "name": "stdout",
     "output_type": "stream",
     "text": [
      "Apply for Retail Associate, PT - Castle Rock\n",
      "\n",
      "Search JobsSkip navigationSearch JobsNIKE, INC. JOBSContract JobsJoin The Talent CommunityLife @ NikeOverviewBenefitsBrandsOverviewJordanConverseTeamsOverviewAdministrative SupportAdvanced InnovationAir Manufacturing InnovationAviationCommunicationsCustomer ServiceDesignDigitalFacilitiesFinance & AccountingGovernment & Public AffairsHuman ResourcesInsights & AnalyticsLegalManufacturing & EngineeringMarketingMerchandisingPlanningPrivacyProcurementProduct Creation, Development & ManagementRetail CorporateRetail StoresSalesSocial & Community ImpactSports MarketingStrategic PlanningSupply Chain, Distribution & LogisticsSustainabilityTechnologyLocationsOverviewNike WHQNike New York HQEHQ: Hilversum, The NetherlandsELC: Laakdal, BelgiumGreater China HQDiversity, Equity & InclusionOverviewMilitary InclusionDisability InclusionIndigenous InclusionInternshipsRetail StoresRetail Associate, PT - Castle RockCastle Rock, ColoradoBecome a Part of the NIKE, Inc. TeamNIKE, Inc. does more than outfit the world’s best athletes. It is a place to explore potential, obliterate boundaries and push out the edges of what can be. The company looks for people who can grow, think, dream and create. Its culture thrives by embracing diversity and rewarding imagination. The brand seeks achievers, leaders and visionaries. At NIKE, Inc. it’s about each person bringing skills and passion to a challenging and constantly evolving game.To work in retail is to be the face of NIKE, Inc. With a relentless focus on product knowledge and customer service, Nike Retail teams give valuable experiences to consumers every day. From Shanghai to San Francisco, every store has a unique perspective and hosts an inspiring community of sport and style devotees. A career in Nike Retail demands creativity and ambition and offers the opportunity to grow with some of the best athletes, teammates and retail partners in the industry.The starting hourly rate for this position is $19.00/hour.Information about benefits can be found here.This posting is anticipated to close on January 25, 2025Location & Store Type: Nike Castle RockAddress: Castle Rock, ColoradoStarting Pay Rate: $19.00/hour  Hours: Part Time – 20-38 hours per week, including nights and weekends  We believe that if you have a body, you are an athlete, which is why when you join our team as a Retail Associate, you are referred to as an Athlete. Are you ready to embrace it? Let’s do it.  Lace Up as a Nike Retail Associate    As a Nike Retail Associate, you’re the face of NIKE.  Enjoy high-volume and a fast pace as your diverse experience and perspective helps guide customers in making the best decisions for them.  You’ll work with your team to focus on customer service and get to the win the right way.    When we say team, we mean it. We go after goals together. We support your bold ideas — and encourage you to try them out. You impact our customers' experiences daily. It's more than getting the product from door to floor; it's being part of the first-time customers find their dream pair. Those iconic moments – that's our culture. Bring your just-do-it attitude, and let's be game-changers together.     Be Rewarded for a Job Well Done  Discounts for you and your family from Nike, Converse and Jordan up to 50% off Accrued Paid Time Off and Holiday Pay All full-time and part-time employees working 20 hours or more per week are eligible for 401(k) Plan, CERA, Employee Assistance Program, Mental and Emotional Health, Financial Coaching and Education, Child Development Support and Caregiving Benefits starting on the day you're hired Full-time and part-time employees working 20 hours or more per week are eligible for Health Savings Accounts and Flexible Savings Accounts after 12 months of continuous employment The opportunity to buy Nike stock at a discount through our Employee Stock Purchase Plan (ESPP)  Access to support through Optum Employee Assistance Program at no cost for you and your family Tuition Reimbursement up to $5,250 per calendar year for full-time Retail Associates Information about benefits can be found here.   Putting Your Best Foot Forward  Must be at least 18 (U.S) Flexibility to work nights, weekends and holidays based on store needs Use customer service authentically to ensure customers feel seen and understood in our stores Ability to learn and train on the latest products and technologies  Physical requirements include the ability to bend, squat, reach, climb a ladder and stand for extended periods of time with or without reasonable accommodations.     What You're Responsible For  Being enthusiastic, excited, and knowledgeable about NIKE products and services to best support customer needs Bringing your positive attitude and passion to your teammates and customers every day  Making customers feel welcome, that you care about their fitness wants and needs, and exceed their expectations at every step of their journey Playing by the rules and being professional, demonstrating integrity, reliability, and kindness Operating a cash register, shipping, and receiving duties, stocking products, cleaning and building visual displays with or without accommodations  Showing up for your teammates by attending store events    NIKE, Inc. is committed to employing a diverse workforce. Qualified applicants will receive consideration without regard to race, color, religion, sex, national origin, age, sexual orientation, gender identity, gender expression, veteran status, or disability.     For more information, please refer to Equal Employment Opportunity is The Law NIKE, Inc. is a growth company that looks for team members to grow with it. Nike offers a generous total rewards package, casual work environment, a diverse and inclusive culture, and an electric atmosphere for professional development. No matter the location, or the role, every Nike employee shares one galvanizing mission: To bring inspiration and innovation to every athlete* in the world.NIKE, Inc. is committed to employing a diverse workforce. Qualified applicants will receive consideration without regard to race, color, religion, sex, national origin, age, sexual orientation, gender identity, gender expression, veteran status, or disability.How We HireAt NIKE, Inc. we promise to provide a premium, inclusive, compelling and authentic candidate experience. Delivering on this promise means we allow you to be at your best — and to do that, you need to understand how the hiring process works. Transparency is key.\n",
      "\n",
      "* This overview explains our hiring process for corporate roles. Note there may be different hiring steps involved for non-corporate roles.Start nowBenefitsWhether it’s transportation or financial health, we continually invest in our employees to help them achieve greatness — inside and outside of work. All who work here should be able to realize their full potential.Employee Assistance ProgramHolidaysMedical PlanPaid Time Off (PTO)Product DiscountsLearn moreFIND A STOREBECOME A MEMBERSIGN UP FOR EMAILSEND US FEEDBACKSTUDENT DISCOUNTSGET HELPGET HELPOrder StatusDeliveryReturnsPayment OptionsContact Us On Nike.com InquiriesContact Us On All Other InquiriesABOUT NIKEABOUT NIKENewsCareersInvestorsSustainabilityIndia© 2024 Nike, Inc. All Rights ReservedGuidesNike AdaptNike Air MaxNike FlyleatherNike PegasusNike Zoom FlyNike AirNike FlyEaseNike FreeNike ReactNike ZoomXNike Air Force 1Nike FlyknitNike JoyrideNike VaporflyTerms of SaleTerms of UseNike Privacy Policy\n"
     ]
    }
   ],
   "source": [
    "from langchain_community.document_loaders import WebBaseLoader \n",
    "\n",
    "loader =WebBaseLoader(\"https://jobs.nike.com/job/R-47685?from=job%20search%20funnel\")\n",
    "\n",
    "page_data = loader.load().pop().page_content \n",
    "print(page_data)"
   ]
  },
  {
   "cell_type": "code",
   "execution_count": 16,
   "metadata": {},
   "outputs": [],
   "source": [
    "from langchain_core.prompts import PromptTemplate\n",
    "\n",
    "prompt_extract = PromptTemplate.from_template(\n",
    "    \n",
    "    \"\"\"\n",
    "    {page_data}\n",
    "    \n",
    "    #instruction \n",
    "    Your job is to extract the job postings and return them in JSON foramt containing the following keys. \n",
    "    'Role' ,'Experience','Skills','Description'. If the JSON file is invalid,please don't return it.\n",
    "    \n",
    "    \"\"\"\n",
    "    \n",
    ")"
   ]
  },
  {
   "cell_type": "code",
   "execution_count": 22,
   "metadata": {},
   "outputs": [
    {
     "name": "stdout",
     "output_type": "stream",
     "text": [
      "Here is the extracted job posting in JSON format:\n",
      "\n",
      "```json\n",
      "{\n",
      "    \"Role\": \"Retail Associate, PT - Castle Rock\",\n",
      "    \"Experience\": \"No experience required, but must be at least 18 years old\",\n",
      "    \"Skills\": [\n",
      "        \"Customer service skills\",\n",
      "        \"Ability to learn and train on latest products and technologies\",\n",
      "        \"Physical ability to bend, squat, reach, climb a ladder and stand for extended periods of time\",\n",
      "        \"Flexibility to work nights, weekends and holidays\"\n",
      "    ],\n",
      "    \"Description\": \"As a Nike Retail Associate, you're the face of NIKE. Enjoy high-volume and a fast pace as your diverse experience and perspective helps guide customers in making the best decisions for them. You'll work with your team to focus on customer service and get to the win the right way.\"\n",
      "}\n",
      "```\n",
      "\n",
      "Note that I have inferred some of the skills and experience requirements based on the job description, as they were not explicitly stated. Also, I have kept the description brief, if you want me to include more details, please let me know. \n",
      "\n",
      "Also, note that the hourly rate, benefits, and other details are not included in the JSON output as they were not part of the requested keys. If you want me to include them, please let me know and I can add them to the output.\n"
     ]
    }
   ],
   "source": [
    "chain_extract = prompt_extract | llm\n",
    "result = chain_extract.invoke(input={'page_data':page_data}) \n",
    "print(result.content)\n"
   ]
  },
  {
   "cell_type": "code",
   "execution_count": 24,
   "metadata": {},
   "outputs": [
    {
     "data": {
      "text/plain": [
       "{'Role': 'Retail Associate, PT - Castle Rock',\n",
       " 'Experience': 'No experience required, but must be at least 18 years old',\n",
       " 'Skills': ['Customer service skills',\n",
       "  'Ability to learn and train on latest products and technologies',\n",
       "  'Physical ability to bend, squat, reach, climb a ladder and stand for extended periods of time',\n",
       "  'Flexibility to work nights, weekends and holidays'],\n",
       " 'Description': \"As a Nike Retail Associate, you're the face of NIKE. Enjoy high-volume and a fast pace as your diverse experience and perspective helps guide customers in making the best decisions for them. You'll work with your team to focus on customer service and get to the win the right way.\"}"
      ]
     },
     "execution_count": 24,
     "metadata": {},
     "output_type": "execute_result"
    }
   ],
   "source": [
    "from langchain_core.output_parsers import JsonOutputParser\n",
    "json_parser = JsonOutputParser()\n",
    "json_result = json_parser.parse(result.content) \n",
    "json_result"
   ]
  }
 ],
 "metadata": {
  "kernelspec": {
   "display_name": "torch",
   "language": "python",
   "name": "python3"
  },
  "language_info": {
   "codemirror_mode": {
    "name": "ipython",
    "version": 3
   },
   "file_extension": ".py",
   "mimetype": "text/x-python",
   "name": "python",
   "nbconvert_exporter": "python",
   "pygments_lexer": "ipython3",
   "version": "3.10.15"
  }
 },
 "nbformat": 4,
 "nbformat_minor": 2
}
